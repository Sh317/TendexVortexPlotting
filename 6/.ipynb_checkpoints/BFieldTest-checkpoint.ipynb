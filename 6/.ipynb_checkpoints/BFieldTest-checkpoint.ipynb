{
 "cells": [
  {
   "cell_type": "code",
   "execution_count": 1,
   "id": "b2d1b59f",
   "metadata": {},
   "outputs": [],
   "source": [
    "from ctypes import *\n",
    "from datetime import datetime as dt\n",
    "import matplotlib.pyplot as plt\n",
    "import matplotlib.colors as mcolors\n",
    "import matplotlib.cm as cm\n",
    "import numpy as np\n",
    "\n",
    "from util.plot import colorline\n",
    "from util.seeding import seed"
   ]
  },
  {
   "cell_type": "code",
   "execution_count": 13,
   "id": "a7926493",
   "metadata": {},
   "outputs": [],
   "source": [
    "class mat(Structure):\n",
    "    _fields_ = [('m', (c_double*3)*3)]\n",
    "\n",
    "f = CDLL(\"./cppScripts/BFieldTest\").f\n",
    "f.argtypes = [c_double, c_double, c_double, c_double, c_double, c_double]\n",
    "f.restype = mat"
   ]
  },
  {
   "cell_type": "code",
   "execution_count": 14,
   "id": "8865ecb2",
   "metadata": {},
   "outputs": [],
   "source": [
    "num_its = 1\n",
    "delta_0 = 10e-2\n",
    "h0 = 10e-2\n",
    "safety = .9\n",
    "ending_tolerance = .1\n",
    "pos_color = 'red'\n",
    "neg_color = 'blue'\n",
    "icity = 1\n",
    "R = 1\n",
    "sigma = 1\n",
    "vX = 1"
   ]
  },
  {
   "cell_type": "code",
   "execution_count": 23,
   "id": "175b22f9",
   "metadata": {},
   "outputs": [],
   "source": [
    "def read_off(x,y,z):\n",
    "    mat_c = f(x,y,z,1,1,1)\n",
    "    \n",
    "    print(mat_c.m[0][0] + ' ' + mat_c.m[0][1] + ' ' + mat_c.m[0][2])\n",
    "        \n",
    "    for i in mat_c.m:\n",
    "        for j in i:\n",
    "            print(j)\n"
   ]
  },
  {
   "cell_type": "code",
   "execution_count": 24,
   "id": "4b85d7c5",
   "metadata": {},
   "outputs": [
    {
     "name": "stdout",
     "output_type": "stream",
     "text": [
      "<__main__.c_double_Array_3 object at 0x11f835950>\n",
      "3.092859635926349\n",
      "3.092859635926349\n",
      "0.0\n",
      "3.092859635926349\n",
      "3.092859635926349\n",
      "0.0\n",
      "0.0\n",
      "0.0\n",
      "0.0\n"
     ]
    }
   ],
   "source": [
    "read_off(1,1,0)"
   ]
  },
  {
   "cell_type": "code",
   "execution_count": null,
   "id": "effc8ec4",
   "metadata": {},
   "outputs": [],
   "source": []
  }
 ],
 "metadata": {
  "kernelspec": {
   "display_name": "Python 3 (ipykernel)",
   "language": "python",
   "name": "python3"
  },
  "language_info": {
   "codemirror_mode": {
    "name": "ipython",
    "version": 3
   },
   "file_extension": ".py",
   "mimetype": "text/x-python",
   "name": "python",
   "nbconvert_exporter": "python",
   "pygments_lexer": "ipython3",
   "version": "3.11.5"
  }
 },
 "nbformat": 4,
 "nbformat_minor": 5
}
