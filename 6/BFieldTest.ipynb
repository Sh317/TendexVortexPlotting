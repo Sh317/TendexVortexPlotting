{
 "cells": [
  {
   "cell_type": "code",
   "execution_count": 2,
   "id": "a9dcfd35",
   "metadata": {},
   "outputs": [],
   "source": [
    "from ctypes import *\n",
    "from datetime import datetime as dt\n",
    "import matplotlib.pyplot as plt\n",
    "import matplotlib.colors as mcolors\n",
    "import matplotlib.cm as cm\n",
    "import numpy as np\n",
    "\n",
    "from util.plot import colorline\n",
    "from util.seeding import seed"
   ]
  },
  {
   "cell_type": "code",
   "execution_count": 3,
   "id": "e113c71f",
   "metadata": {},
   "outputs": [],
   "source": [
    "def read_off(x,y,z):\n",
    "    mat_c = f(x,y,z,1,1,1)\n",
    "    \n",
    "    print(mat_c.m[0][0], mat_c.m[0][1], mat_c.m[0][2])\n",
    "    print(mat_c.m[1][0], mat_c.m[1][1], mat_c.m[1][2])\n",
    "    print(mat_c.m[2][0], mat_c.m[2][1], mat_c.m[2][2])"
   ]
  },
  {
   "cell_type": "code",
   "execution_count": 4,
   "id": "ce02aead",
   "metadata": {},
   "outputs": [],
   "source": [
    "num_its = 1\n",
    "delta_0 = 10e-2\n",
    "h0 = 10e-2\n",
    "safety = .9\n",
    "ending_tolerance = .1\n",
    "pos_color = 'red'\n",
    "neg_color = 'blue'\n",
    "icity = 1\n",
    "R = 1\n",
    "sigma = 1\n",
    "vX = 1"
   ]
  },
  {
   "cell_type": "code",
   "execution_count": 17,
   "id": "6ff226e7",
   "metadata": {},
   "outputs": [],
   "source": [
    "class mat(Structure):\n",
    "    _fields_ = [('m', (c_double*3)*3)]\n",
    "\n",
    "f = CDLL(\"./cppScripts/BFieldTest\").f\n",
    "f.argtypes = [c_double, c_double, c_double, c_double, c_double, c_double]\n",
    "f.restype = mat"
   ]
  },
  {
   "cell_type": "code",
   "execution_count": 21,
   "id": "ef5dc2bd",
   "metadata": {},
   "outputs": [
    {
     "name": "stdout",
     "output_type": "stream",
     "text": [
      "-0.007709364406764507 0.4062081277370453 -0.3984987735748291\n",
      "-0.38733285665512085 0.007709364406764507 0.37962350249290466\n",
      "0.40895670652389526 -0.40895670652389526 0.0\n"
     ]
    }
   ],
   "source": [
    "read_off(-0.123,.345,0)"
   ]
  },
  {
   "cell_type": "code",
   "execution_count": null,
   "id": "53b3de29",
   "metadata": {},
   "outputs": [],
   "source": []
  }
 ],
 "metadata": {
  "kernelspec": {
   "display_name": "Python 3 (ipykernel)",
   "language": "python",
   "name": "python3"
  },
  "language_info": {
   "codemirror_mode": {
    "name": "ipython",
    "version": 3
   },
   "file_extension": ".py",
   "mimetype": "text/x-python",
   "name": "python",
   "nbconvert_exporter": "python",
   "pygments_lexer": "ipython3",
   "version": "3.11.5"
  }
 },
 "nbformat": 4,
 "nbformat_minor": 5
}
