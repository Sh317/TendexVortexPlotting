{
 "cells": [
  {
   "cell_type": "code",
   "execution_count": 1,
   "id": "2a2decc7",
   "metadata": {},
   "outputs": [],
   "source": [
    "from ctypes import *\n",
    "from datetime import datetime as dt\n",
    "import matplotlib.pyplot as plt\n",
    "import matplotlib.colors as mcolors\n",
    "import matplotlib.cm as cm\n",
    "import numpy as np\n",
    "\n",
    "from util.plot import colorline\n",
    "from util.seeding import seed"
   ]
  },
  {
   "cell_type": "code",
   "execution_count": 2,
   "id": "d5b0ddd4",
   "metadata": {},
   "outputs": [],
   "source": [
    "class vect(Structure):\n",
    "    _fields_ = [('x', c_double*10000), ('y', c_double*10000), ('z', c_double*10000), ('m', c_double*10000), ('its', c_int)]\n",
    "\n",
    "rka_iter = CDLL(\"./cppScripts/BFieldCalc\").rka_iter\n",
    "rka_iter.argtypes = [c_double, c_double, c_double, c_double, c_double, c_double, c_int, c_int, c_double, c_double, c_double, c_double]\n",
    "rka_iter.restype = vect"
   ]
  },
  {
   "cell_type": "code",
   "execution_count": 3,
   "id": "4d07a8fb",
   "metadata": {},
   "outputs": [],
   "source": [
    "num_its = 1\n",
    "delta_0 = 10e-2\n",
    "h0 = 10e-2\n",
    "safety = .9\n",
    "ending_tolerance = .1\n",
    "pos_color = 'red'\n",
    "neg_color = 'blue'\n",
    "icity = 1\n",
    "R = 1\n",
    "sigma = 1\n",
    "vX = 1"
   ]
  },
  {
   "cell_type": "code",
   "execution_count": 7,
   "id": "f52d3b5f",
   "metadata": {},
   "outputs": [],
   "source": [
    "def read_off(x,y,z):\n",
    "    vect_c = rka_iter(R, sigma, vX, x, y, z, num_its, icity, ending_tolerance, delta_0, safety, h0)\n",
    "    its = vect_c.its\n",
    "    x = vect_c.x[0:its]\n",
    "    y = vect_c.y[0:its]\n",
    "    z = vect_c.z[0:its]\n",
    "    \n",
    "    print('x:',x)\n",
    "    print('y:',y)\n",
    "    print('z:',z)"
   ]
  },
  {
   "cell_type": "code",
   "execution_count": 8,
   "id": "9c80985b",
   "metadata": {},
   "outputs": [
    {
     "name": "stdout",
     "output_type": "stream",
     "text": [
      "x: [1.0700637102127075]\n",
      "y: [1.0700637102127075]\n",
      "z: [0.0]\n"
     ]
    }
   ],
   "source": [
    "read_off(1,1,0)"
   ]
  },
  {
   "cell_type": "code",
   "execution_count": null,
   "id": "c3ad295a",
   "metadata": {},
   "outputs": [],
   "source": []
  }
 ],
 "metadata": {
  "kernelspec": {
   "display_name": "Python 3 (ipykernel)",
   "language": "python",
   "name": "python3"
  },
  "language_info": {
   "codemirror_mode": {
    "name": "ipython",
    "version": 3
   },
   "file_extension": ".py",
   "mimetype": "text/x-python",
   "name": "python",
   "nbconvert_exporter": "python",
   "pygments_lexer": "ipython3",
   "version": "3.11.5"
  }
 },
 "nbformat": 4,
 "nbformat_minor": 5
}
